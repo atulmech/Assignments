{
 "cells": [
  {
   "cell_type": "markdown",
   "id": "55a33530",
   "metadata": {},
   "source": [
    "# 1. In the below elements which of them are values or an expression? eg:- values can be integer or string and expressions will be mathematical operators.\n",
    "* \n",
    "'hello'\n",
    "-87.8\n",
    "- \n",
    "/ \n",
    "+\t\n",
    "6 \n"
   ]
  },
  {
   "cell_type": "code",
   "execution_count": null,
   "id": "88a3b2f3",
   "metadata": {},
   "outputs": [],
   "source": [
    "'hello' is stiring(Value)\n",
    "87.8 is float (value)\n",
    "/ is operator (expression)\n",
    "6 is integer (Value)"
   ]
  },
  {
   "cell_type": "markdown",
   "id": "74589552",
   "metadata": {},
   "source": [
    "# 2. What is the difference between string and variable?"
   ]
  },
  {
   "cell_type": "code",
   "execution_count": null,
   "id": "68d13e57",
   "metadata": {},
   "outputs": [],
   "source": [
    "Variable store value, expression that can be use further in a programe, where sting is value which can be stored in \n",
    "variable, like x is variable while \"x\" is string."
   ]
  },
  {
   "cell_type": "markdown",
   "id": "b361268f",
   "metadata": {},
   "source": [
    "# 3. Describe three different data types."
   ]
  },
  {
   "cell_type": "code",
   "execution_count": null,
   "id": "eca75382",
   "metadata": {},
   "outputs": [],
   "source": [
    "1.Numeric Data types-int,float,complex \n",
    "\n",
    "2.Squence Data types-(str,list,tuple) \n",
    "\n",
    "3.Boolean Data types-True,False\n",
    "\n",
    "4.Set-\"in Python, Set is an unordered collection of data type that is iterable, mutable and has no duplicate elements.\n",
    "       \"The order of elements in a set is undefined though it may consist of various elements.\"\n",
    "\n",
    "5.Dictionary- \" is an unordered collection of data values, used to store data values like a map,\n",
    "                \"which unlike other Data Types that hold only single value as an element\""
   ]
  },
  {
   "cell_type": "markdown",
   "id": "fe43f520",
   "metadata": {},
   "source": [
    "# 4. What is an expression made up of? What do all expressions do?"
   ]
  },
  {
   "cell_type": "code",
   "execution_count": null,
   "id": "96dedbf8",
   "metadata": {},
   "outputs": [],
   "source": [
    "Expression is made up of value and mathematical operator or varaiable and mathematical operator,\n",
    "i.e. An expression is a combination of operators and operands, it provide output to set of input."
   ]
  },
  {
   "cell_type": "markdown",
   "id": "f5240f06",
   "metadata": {},
   "source": [
    "# 5. This assignment statements, like spam = 10. What is the difference between an expression and a statement?"
   ]
  },
  {
   "cell_type": "code",
   "execution_count": null,
   "id": "659df961",
   "metadata": {},
   "outputs": [],
   "source": [
    "Expreesion in combination of operators and operands and it retutn a value, while statement can be anything a line having\n",
    "string, integer values and most important a expression is also a statement."
   ]
  },
  {
   "cell_type": "markdown",
   "id": "68f38313",
   "metadata": {},
   "source": [
    "# 6. After running the following code, what does the variable bacon contain?\n",
    "bacon = 22\n",
    "\n",
    "bacon + 1\n"
   ]
  },
  {
   "cell_type": "code",
   "execution_count": null,
   "id": "397a0885",
   "metadata": {},
   "outputs": [],
   "source": [
    "bacon still conatian the value assign to it in above expresssion i.e. bacon=22"
   ]
  },
  {
   "cell_type": "markdown",
   "id": "8bb90bce",
   "metadata": {},
   "source": [
    "# 7. What should the values of the following two terms be?\n",
    "'spam' + 'spamspam'\n",
    "\n",
    "'spam' * 3\n"
   ]
  },
  {
   "cell_type": "code",
   "execution_count": null,
   "id": "e90b6d2d",
   "metadata": {},
   "outputs": [],
   "source": [
    "both the expression will provide same values='spamspamspam'"
   ]
  },
  {
   "cell_type": "markdown",
   "id": "51c150f8",
   "metadata": {},
   "source": [
    "# 8. Why is eggs a valid variable name while 100 is invalid"
   ]
  },
  {
   "cell_type": "code",
   "execution_count": null,
   "id": "68a87ff0",
   "metadata": {},
   "outputs": [],
   "source": [
    "since 100 is value so we can not assign any value to predefine value,while eggs having no value as such so we can assign \n",
    "any value to it."
   ]
  },
  {
   "cell_type": "markdown",
   "id": "12573cb0",
   "metadata": {},
   "source": [
    "# 9. What three functions can be used to get the integer, floating-point number, or string version of a value?"
   ]
  },
  {
   "cell_type": "code",
   "execution_count": null,
   "id": "e866f845",
   "metadata": {},
   "outputs": [],
   "source": [
    "x=int(x)\n",
    "x=float(x)\n",
    "x=str(x)"
   ]
  },
  {
   "cell_type": "markdown",
   "id": "971d0935",
   "metadata": {},
   "source": [
    "# 10. Why does this expression cause an error? How can you fix it?\n",
    "'I have eaten ' + 99 + ' burritos.'\n"
   ]
  },
  {
   "cell_type": "code",
   "execution_count": null,
   "id": "9a294b2d",
   "metadata": {},
   "outputs": [],
   "source": [
    "In above expression 'i have eaten' and 'burritos' both are string while 99 is integer , so you can not add two different\n",
    "data types.\n",
    "if you convert 99 to string it will work.\n",
    "like 99----'99'\n",
    "'i have eaten' +'99'+'burritos.' now it will work"
   ]
  }
 ],
 "metadata": {
  "kernelspec": {
   "display_name": "Python 3",
   "language": "python",
   "name": "python3"
  },
  "language_info": {
   "codemirror_mode": {
    "name": "ipython",
    "version": 3
   },
   "file_extension": ".py",
   "mimetype": "text/x-python",
   "name": "python",
   "nbconvert_exporter": "python",
   "pygments_lexer": "ipython3",
   "version": "3.8.8"
  }
 },
 "nbformat": 4,
 "nbformat_minor": 5
}
