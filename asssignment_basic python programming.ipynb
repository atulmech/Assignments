{
 "cells": [
  {
   "cell_type": "markdown",
   "id": "ee448ae3",
   "metadata": {},
   "source": [
    "# 1.Write a Python program to print \"Hello Python\"?"
   ]
  },
  {
   "cell_type": "code",
   "execution_count": 1,
   "id": "a3e27530",
   "metadata": {},
   "outputs": [
    {
     "name": "stdout",
     "output_type": "stream",
     "text": [
      "Hello Python\n"
     ]
    }
   ],
   "source": [
    "print(\"Hello Python\")"
   ]
  },
  {
   "cell_type": "markdown",
   "id": "71ca3442",
   "metadata": {},
   "source": [
    "# 2. Write a Python program to do arithmetical operations addition and division.?"
   ]
  },
  {
   "cell_type": "code",
   "execution_count": 4,
   "id": "1f7e4f9f",
   "metadata": {},
   "outputs": [
    {
     "name": "stdout",
     "output_type": "stream",
     "text": [
      ".9999\n",
      "/\n",
      ".11111\n",
      "8.99918999189992\n"
     ]
    }
   ],
   "source": [
    "a=float(input())\n",
    "s=input() # put what you want to peform like +,-,/,*\n",
    "b=float(input())\n",
    "if s==\"+\":\n",
    "    print(a+b)\n",
    "elif s==\"-\":\n",
    "    print(a-b)\n",
    "elif s==\"/\":\n",
    "    print(a/b)\n",
    "elif s==\"*\":\n",
    "    print(a*b)\n",
    "else:\n",
    "    print(\"wrong operator only add, sub, div and multiply\")"
   ]
  },
  {
   "cell_type": "markdown",
   "id": "36d9870e",
   "metadata": {},
   "source": [
    "# 3. Write a Python program to find the area of a triangle?"
   ]
  },
  {
   "cell_type": "code",
   "execution_count": 15,
   "id": "5281db1f",
   "metadata": {},
   "outputs": [
    {
     "name": "stdout",
     "output_type": "stream",
     "text": [
      "Enter the sides of triangle\n",
      "50\n",
      "60\n",
      "180\n",
      "it do not follow traingle law \n"
     ]
    }
   ],
   "source": [
    "import math\n",
    "print(\"Enter the sides of triangle\")\n",
    "a=float(input())\n",
    "b=float(input())\n",
    "c=float(input())\n",
    "s=(a+b+c)/2\n",
    "if a+b>c and  b+c>a and  c+a>b:\n",
    "    area=math.sqrt(s*(s-a)*(s-b)*(s-c))\n",
    "    print(area)\n",
    "else:\n",
    "    print(\"it do not follow traingle law \")\n",
    "    \n"
   ]
  },
  {
   "cell_type": "markdown",
   "id": "f1f7b98e",
   "metadata": {},
   "source": [
    "# 4. Write a Python program to swap two variables?"
   ]
  },
  {
   "cell_type": "code",
   "execution_count": 29,
   "id": "81317006",
   "metadata": {},
   "outputs": [
    {
     "name": "stdout",
     "output_type": "stream",
     "text": [
      "50\n",
      "51.5\n",
      "Before swapping variables are x= 50.0 and y= 51.5\n",
      "After swapping variables are x= 51.5 and y= 50.0\n"
     ]
    }
   ],
   "source": [
    "# for numeric type \n",
    "import math\n",
    "x=float(input())\n",
    "y=float(input())\n",
    "print(\"Before swapping variables are x=\",x,\"and y=\",y)\n",
    "x=x+y\n",
    "y=x-y\n",
    "x=x-y\n",
    "print(\"After swapping variables are x=\",x,\"and y=\",y)\n"
   ]
  },
  {
   "cell_type": "code",
   "execution_count": 31,
   "id": "77146e5d",
   "metadata": {},
   "outputs": [
    {
     "name": "stdout",
     "output_type": "stream",
     "text": [
      "3.6\n",
      "5.2\n",
      "Before swapping variables are x= 3.6 and y= 5.2\n",
      "After swapping variables are x= 5.2 and y= 3.6\n"
     ]
    }
   ],
   "source": [
    "# for string type\n",
    "x=input()\n",
    "y=input()\n",
    "print(\"Before swapping variables are x=\",x,\"and y=\",y)\n",
    "x,y=y,x\n",
    "print(\"After swapping variables are x=\",x,\"and y=\",y)\n",
    "\n"
   ]
  },
  {
   "cell_type": "markdown",
   "id": "50865480",
   "metadata": {},
   "source": [
    "# 5. Write a Python program to generate a random number?"
   ]
  },
  {
   "cell_type": "code",
   "execution_count": 38,
   "id": "578f209c",
   "metadata": {},
   "outputs": [
    {
     "name": "stdout",
     "output_type": "stream",
     "text": [
      "81\n"
     ]
    }
   ],
   "source": [
    "r=range(0,1000)\n",
    "import random\n",
    "print(random.choice(r))"
   ]
  },
  {
   "cell_type": "code",
   "execution_count": null,
   "id": "74da626a",
   "metadata": {},
   "outputs": [],
   "source": []
  }
 ],
 "metadata": {
  "kernelspec": {
   "display_name": "Python 3",
   "language": "python",
   "name": "python3"
  },
  "language_info": {
   "codemirror_mode": {
    "name": "ipython",
    "version": 3
   },
   "file_extension": ".py",
   "mimetype": "text/x-python",
   "name": "python",
   "nbconvert_exporter": "python",
   "pygments_lexer": "ipython3",
   "version": "3.8.8"
  }
 },
 "nbformat": 4,
 "nbformat_minor": 5
}
