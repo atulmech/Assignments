{
 "cells": [
  {
   "cell_type": "markdown",
   "id": "62fdd10f",
   "metadata": {},
   "source": [
    "# 1.\tWrite a Python Program to Find the Factorial of a Number?\n",
    "\n"
   ]
  },
  {
   "cell_type": "code",
   "execution_count": 14,
   "id": "851a5112",
   "metadata": {},
   "outputs": [],
   "source": [
    "def factorial(a):\n",
    "    fact=1\n",
    "    if a<0:\n",
    "        return \"Factorial is Not define for NEGATIVE Numbers\"\n",
    "    else:\n",
    "        while a>1:\n",
    "            fact=fact*a\n",
    "            a=a-1\n",
    "    return fact\n",
    "       "
   ]
  },
  {
   "cell_type": "code",
   "execution_count": 15,
   "id": "cd00c867",
   "metadata": {},
   "outputs": [
    {
     "data": {
      "text/plain": [
       "120"
      ]
     },
     "execution_count": 15,
     "metadata": {},
     "output_type": "execute_result"
    }
   ],
   "source": [
    "factorial(5)"
   ]
  },
  {
   "cell_type": "code",
   "execution_count": 31,
   "id": "81d4ed1e",
   "metadata": {},
   "outputs": [
    {
     "data": {
      "text/plain": [
       "'Factorial is Not define for NEGATIVE values'"
      ]
     },
     "execution_count": 31,
     "metadata": {},
     "output_type": "execute_result"
    }
   ],
   "source": [
    "factorial(-10)"
   ]
  },
  {
   "cell_type": "code",
   "execution_count": 34,
   "id": "8d98daa4",
   "metadata": {},
   "outputs": [
    {
     "data": {
      "text/plain": [
       "24"
      ]
     },
     "execution_count": 34,
     "metadata": {},
     "output_type": "execute_result"
    }
   ],
   "source": [
    "factorial(4)"
   ]
  },
  {
   "cell_type": "code",
   "execution_count": 19,
   "id": "ca47d927",
   "metadata": {},
   "outputs": [],
   "source": [
    "def Rfact(a):\n",
    "    if a<0:\n",
    "        return \"Fcatorial is not define for Negative Numbers\"\n",
    "    elif (a==0 or a==1):\n",
    "        return 1\n",
    "    else:\n",
    "        return a*Rfact(a-1)\n",
    "    "
   ]
  },
  {
   "cell_type": "code",
   "execution_count": 20,
   "id": "ead86f77",
   "metadata": {},
   "outputs": [
    {
     "data": {
      "text/plain": [
       "120"
      ]
     },
     "execution_count": 20,
     "metadata": {},
     "output_type": "execute_result"
    }
   ],
   "source": [
    "Rfact(5)"
   ]
  },
  {
   "cell_type": "code",
   "execution_count": 21,
   "id": "e942d671",
   "metadata": {},
   "outputs": [
    {
     "data": {
      "text/plain": [
       "'Fcatorial is not define for Negative Numbers'"
      ]
     },
     "execution_count": 21,
     "metadata": {},
     "output_type": "execute_result"
    }
   ],
   "source": [
    "Rfact(-4)"
   ]
  },
  {
   "cell_type": "markdown",
   "id": "f4bc409a",
   "metadata": {},
   "source": [
    "# 2.\tWrite a Python Program to Display the multiplication Table?\n"
   ]
  },
  {
   "cell_type": "code",
   "execution_count": 28,
   "id": "9882d805",
   "metadata": {},
   "outputs": [],
   "source": [
    "def Multiplication_Table(n):# Enter the number whose multiplication you want\n",
    "    for i in range(1,11):\n",
    "        print('{} X {} = {}'.format(i,n,i*n))"
   ]
  },
  {
   "cell_type": "code",
   "execution_count": 29,
   "id": "995c8aca",
   "metadata": {},
   "outputs": [
    {
     "name": "stdout",
     "output_type": "stream",
     "text": [
      "1 X 5 = 5\n",
      "2 X 5 = 10\n",
      "3 X 5 = 15\n",
      "4 X 5 = 20\n",
      "5 X 5 = 25\n",
      "6 X 5 = 30\n",
      "7 X 5 = 35\n",
      "8 X 5 = 40\n",
      "9 X 5 = 45\n",
      "10 X 5 = 50\n"
     ]
    }
   ],
   "source": [
    "Multiplication_Table(5)"
   ]
  },
  {
   "cell_type": "code",
   "execution_count": 30,
   "id": "d8925df9",
   "metadata": {},
   "outputs": [
    {
     "name": "stdout",
     "output_type": "stream",
     "text": [
      "1 X 30 = 30\n",
      "2 X 30 = 60\n",
      "3 X 30 = 90\n",
      "4 X 30 = 120\n",
      "5 X 30 = 150\n",
      "6 X 30 = 180\n",
      "7 X 30 = 210\n",
      "8 X 30 = 240\n",
      "9 X 30 = 270\n",
      "10 X 30 = 300\n"
     ]
    }
   ],
   "source": [
    "Multiplication_Table(30)"
   ]
  },
  {
   "cell_type": "markdown",
   "id": "46e90270",
   "metadata": {},
   "source": [
    "# 3.\tWrite a Python Program to Print the Fibonacci sequence?\n"
   ]
  },
  {
   "cell_type": "code",
   "execution_count": 9,
   "id": "19304f14",
   "metadata": {},
   "outputs": [],
   "source": [
    "def Fib(n,a,b):\n",
    "    if n==1:\n",
    "        return a\n",
    "    else:\n",
    "        for i in range(n):\n",
    "            new=a+b\n",
    "            a=b\n",
    "            b=new\n",
    "            print(new)\n",
    "    "
   ]
  },
  {
   "cell_type": "code",
   "execution_count": 10,
   "id": "9d16d3a7",
   "metadata": {},
   "outputs": [
    {
     "name": "stdout",
     "output_type": "stream",
     "text": [
      "1\n",
      "2\n",
      "3\n",
      "5\n",
      "8\n",
      "13\n",
      "21\n",
      "34\n",
      "55\n",
      "89\n"
     ]
    }
   ],
   "source": [
    "Fib(10,0,1)"
   ]
  },
  {
   "cell_type": "code",
   "execution_count": 11,
   "id": "0689c664",
   "metadata": {},
   "outputs": [
    {
     "name": "stdout",
     "output_type": "stream",
     "text": [
      "144\n",
      "233\n",
      "377\n",
      "610\n",
      "987\n",
      "1597\n",
      "2584\n",
      "4181\n",
      "6765\n",
      "10946\n",
      "17711\n",
      "28657\n",
      "46368\n",
      "75025\n",
      "121393\n",
      "196418\n",
      "317811\n",
      "514229\n",
      "832040\n",
      "1346269\n"
     ]
    }
   ],
   "source": [
    "Fib(20,55,89)"
   ]
  },
  {
   "cell_type": "markdown",
   "id": "7d3f5916",
   "metadata": {},
   "source": [
    "# 4.\tWrite a Python Program to Check Armstrong Number?\n"
   ]
  },
  {
   "cell_type": "code",
   "execution_count": 43,
   "id": "8aa1ecda",
   "metadata": {},
   "outputs": [],
   "source": [
    "def Armstrong_Number_scan(n):\n",
    "    temp=0\n",
    "    a=n\n",
    "    while n>0:\n",
    "        r= n%10\n",
    "        temp=temp+r**3\n",
    "        n=n//10\n",
    "    if temp==a:\n",
    "        return True\n",
    "    else:\n",
    "        return False\n",
    "    "
   ]
  },
  {
   "cell_type": "code",
   "execution_count": 44,
   "id": "e1b932f7",
   "metadata": {},
   "outputs": [
    {
     "data": {
      "text/plain": [
       "True"
      ]
     },
     "execution_count": 44,
     "metadata": {},
     "output_type": "execute_result"
    }
   ],
   "source": [
    "Armstrong_Number_scan(153)"
   ]
  },
  {
   "cell_type": "code",
   "execution_count": 45,
   "id": "32d1b013",
   "metadata": {},
   "outputs": [
    {
     "data": {
      "text/plain": [
       "False"
      ]
     },
     "execution_count": 45,
     "metadata": {},
     "output_type": "execute_result"
    }
   ],
   "source": [
    "Armstrong_Number_scan(252)"
   ]
  },
  {
   "cell_type": "markdown",
   "id": "24667036",
   "metadata": {},
   "source": [
    "# 5.\tWrite a Python Program to Find Armstrong Number in an Interval?\n"
   ]
  },
  {
   "cell_type": "code",
   "execution_count": 46,
   "id": "ee61659c",
   "metadata": {},
   "outputs": [],
   "source": [
    "def ArmstrongNumbers(a,b):\n",
    "    for i in range(a,b+1):\n",
    "        m=Armstrong_Number_scan(i)\n",
    "        if m==True:\n",
    "            print(i)\n",
    "        "
   ]
  },
  {
   "cell_type": "code",
   "execution_count": 47,
   "id": "bc2965ca",
   "metadata": {},
   "outputs": [
    {
     "name": "stdout",
     "output_type": "stream",
     "text": [
      "1\n",
      "153\n",
      "370\n",
      "371\n",
      "407\n"
     ]
    }
   ],
   "source": [
    "ArmstrongNumbers(1,500)"
   ]
  },
  {
   "cell_type": "markdown",
   "id": "04ebeac6",
   "metadata": {},
   "source": [
    "# 6.\tWrite a Python Program to Find the Sum of Natural Numbers?"
   ]
  },
  {
   "cell_type": "code",
   "execution_count": 48,
   "id": "098dba45",
   "metadata": {},
   "outputs": [],
   "source": [
    "def Sum_Natural_Numbers(n):# where n is upto what number\n",
    "    temp=0\n",
    "    for i in range(1,n+1):\n",
    "        temp=temp+i\n",
    "    return temp\n",
    "    \n",
    "    "
   ]
  },
  {
   "cell_type": "code",
   "execution_count": 52,
   "id": "7b9f110a",
   "metadata": {},
   "outputs": [
    {
     "data": {
      "text/plain": [
       "5050"
      ]
     },
     "execution_count": 52,
     "metadata": {},
     "output_type": "execute_result"
    }
   ],
   "source": [
    "Sum_Natural_Numbers(100)"
   ]
  }
 ],
 "metadata": {
  "kernelspec": {
   "display_name": "Python 3",
   "language": "python",
   "name": "python3"
  },
  "language_info": {
   "codemirror_mode": {
    "name": "ipython",
    "version": 3
   },
   "file_extension": ".py",
   "mimetype": "text/x-python",
   "name": "python",
   "nbconvert_exporter": "python",
   "pygments_lexer": "ipython3",
   "version": "3.8.8"
  }
 },
 "nbformat": 4,
 "nbformat_minor": 5
}
