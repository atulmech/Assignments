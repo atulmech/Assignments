{
 "cells": [
  {
   "cell_type": "markdown",
   "id": "51fcb01e",
   "metadata": {},
   "source": [
    "# 1.\tWrite a Python program to convert kilometers to miles?"
   ]
  },
  {
   "cell_type": "code",
   "execution_count": 13,
   "id": "abe8255f",
   "metadata": {},
   "outputs": [],
   "source": [
    "def convertor():\n",
    "    s=input(\"type 1 for KM to Mile for Mile to KM type 2\")\n",
    "    a=float(input(\"Enter the distance\"))\n",
    "    if s==\"1\":\n",
    "        return (a/1.60934)\n",
    "    elif s==\"2\":\n",
    "            return a*1.60934\n",
    "    else:\n",
    "        return \"enter valid number 1 or 2 only\"\n",
    "        \n",
    "   \n"
   ]
  },
  {
   "cell_type": "code",
   "execution_count": 14,
   "id": "53c1a2bc",
   "metadata": {},
   "outputs": [
    {
     "name": "stdout",
     "output_type": "stream",
     "text": [
      "type 1 for KM to Mile for Mile to KM type 22\n",
      "Enter the distance100\n"
     ]
    },
    {
     "data": {
      "text/plain": [
       "160.934"
      ]
     },
     "execution_count": 14,
     "metadata": {},
     "output_type": "execute_result"
    }
   ],
   "source": [
    "convertor()"
   ]
  },
  {
   "cell_type": "code",
   "execution_count": 15,
   "id": "25056ad4",
   "metadata": {},
   "outputs": [
    {
     "name": "stdout",
     "output_type": "stream",
     "text": [
      "type 1 for KM to Mile for Mile to KM type 21\n",
      "Enter the distance100\n"
     ]
    },
    {
     "data": {
      "text/plain": [
       "62.137273664980675"
      ]
     },
     "execution_count": 15,
     "metadata": {},
     "output_type": "execute_result"
    }
   ],
   "source": [
    "convertor()"
   ]
  },
  {
   "cell_type": "code",
   "execution_count": 16,
   "id": "74764cb3",
   "metadata": {},
   "outputs": [
    {
     "name": "stdout",
     "output_type": "stream",
     "text": [
      "type 1 for KM to Mile for Mile to KM type 25\n",
      "Enter the distance100\n"
     ]
    },
    {
     "data": {
      "text/plain": [
       "'enter valid number 1 or 2 only'"
      ]
     },
     "execution_count": 16,
     "metadata": {},
     "output_type": "execute_result"
    }
   ],
   "source": [
    "convertor()"
   ]
  },
  {
   "cell_type": "markdown",
   "id": "32309364",
   "metadata": {},
   "source": [
    "# 2.\tWrite a Python program to convert Celsius to Fahrenheit?\n",
    "\n"
   ]
  },
  {
   "cell_type": "code",
   "execution_count": 45,
   "id": "e52eb31b",
   "metadata": {},
   "outputs": [],
   "source": [
    "def convertor2(x):#x is the input value in s unit\n",
    "    s=input(\"Enter the unit of your data C or F-->\")# s is unit in which you want to enter data and\n",
    "    if s==\"c\" or s==\"C\":\n",
    "        return 1.8*x+32\n",
    "    elif s==\"f\"or s==\"F\":\n",
    "        return 5*(x-32)/9\n",
    "    else:\n",
    "        return \"wrong unit\""
   ]
  },
  {
   "cell_type": "code",
   "execution_count": 46,
   "id": "50932adf",
   "metadata": {},
   "outputs": [
    {
     "name": "stdout",
     "output_type": "stream",
     "text": [
      "Enter the unit of your data C or F-->c\n"
     ]
    },
    {
     "data": {
      "text/plain": [
       "212.0"
      ]
     },
     "execution_count": 46,
     "metadata": {},
     "output_type": "execute_result"
    }
   ],
   "source": [
    "convertor2(100)"
   ]
  },
  {
   "cell_type": "code",
   "execution_count": 47,
   "id": "aa98c23d",
   "metadata": {},
   "outputs": [
    {
     "name": "stdout",
     "output_type": "stream",
     "text": [
      "Enter the unit of your data C or F-->d\n"
     ]
    },
    {
     "data": {
      "text/plain": [
       "'wrong unit'"
      ]
     },
     "execution_count": 47,
     "metadata": {},
     "output_type": "execute_result"
    }
   ],
   "source": [
    "convertor2(200)"
   ]
  },
  {
   "cell_type": "markdown",
   "id": "7fbe1065",
   "metadata": {},
   "source": [
    "# 3.\tWrite a Python program to display calendar?\n"
   ]
  },
  {
   "cell_type": "code",
   "execution_count": 48,
   "id": "b4635026",
   "metadata": {},
   "outputs": [
    {
     "name": "stdout",
     "output_type": "stream",
     "text": [
      "                                  2022\n",
      "\n",
      "      January                   February                   March\n",
      "Mo Tu We Th Fr Sa Su      Mo Tu We Th Fr Sa Su      Mo Tu We Th Fr Sa Su\n",
      "                1  2          1  2  3  4  5  6          1  2  3  4  5  6\n",
      " 3  4  5  6  7  8  9       7  8  9 10 11 12 13       7  8  9 10 11 12 13\n",
      "10 11 12 13 14 15 16      14 15 16 17 18 19 20      14 15 16 17 18 19 20\n",
      "17 18 19 20 21 22 23      21 22 23 24 25 26 27      21 22 23 24 25 26 27\n",
      "24 25 26 27 28 29 30      28                        28 29 30 31\n",
      "31\n",
      "\n",
      "       April                      May                       June\n",
      "Mo Tu We Th Fr Sa Su      Mo Tu We Th Fr Sa Su      Mo Tu We Th Fr Sa Su\n",
      "             1  2  3                         1             1  2  3  4  5\n",
      " 4  5  6  7  8  9 10       2  3  4  5  6  7  8       6  7  8  9 10 11 12\n",
      "11 12 13 14 15 16 17       9 10 11 12 13 14 15      13 14 15 16 17 18 19\n",
      "18 19 20 21 22 23 24      16 17 18 19 20 21 22      20 21 22 23 24 25 26\n",
      "25 26 27 28 29 30         23 24 25 26 27 28 29      27 28 29 30\n",
      "                          30 31\n",
      "\n",
      "        July                     August                  September\n",
      "Mo Tu We Th Fr Sa Su      Mo Tu We Th Fr Sa Su      Mo Tu We Th Fr Sa Su\n",
      "             1  2  3       1  2  3  4  5  6  7                1  2  3  4\n",
      " 4  5  6  7  8  9 10       8  9 10 11 12 13 14       5  6  7  8  9 10 11\n",
      "11 12 13 14 15 16 17      15 16 17 18 19 20 21      12 13 14 15 16 17 18\n",
      "18 19 20 21 22 23 24      22 23 24 25 26 27 28      19 20 21 22 23 24 25\n",
      "25 26 27 28 29 30 31      29 30 31                  26 27 28 29 30\n",
      "\n",
      "      October                   November                  December\n",
      "Mo Tu We Th Fr Sa Su      Mo Tu We Th Fr Sa Su      Mo Tu We Th Fr Sa Su\n",
      "                1  2          1  2  3  4  5  6                1  2  3  4\n",
      " 3  4  5  6  7  8  9       7  8  9 10 11 12 13       5  6  7  8  9 10 11\n",
      "10 11 12 13 14 15 16      14 15 16 17 18 19 20      12 13 14 15 16 17 18\n",
      "17 18 19 20 21 22 23      21 22 23 24 25 26 27      19 20 21 22 23 24 25\n",
      "24 25 26 27 28 29 30      28 29 30                  26 27 28 29 30 31\n",
      "31\n",
      "\n"
     ]
    }
   ],
   "source": [
    "import calendar\n",
    "print(calendar.calendar(2022))"
   ]
  },
  {
   "cell_type": "code",
   "execution_count": 55,
   "id": "7c5d1515",
   "metadata": {},
   "outputs": [
    {
     "name": "stdout",
     "output_type": "stream",
     "text": [
      "   November 2022\n",
      "Mo Tu We Th Fr Sa Su\n",
      "    1  2  3  4  5  6\n",
      " 7  8  9 10 11 12 13\n",
      "14 15 16 17 18 19 20\n",
      "21 22 23 24 25 26 27\n",
      "28 29 30\n",
      "\n"
     ]
    }
   ],
   "source": [
    "print(calendar.month(2022,11))"
   ]
  },
  {
   "cell_type": "markdown",
   "id": "7718297f",
   "metadata": {},
   "source": [
    "# 4.\tWrite a Python program to solve quadratic equation?\n"
   ]
  },
  {
   "cell_type": "code",
   "execution_count": 83,
   "id": "a5fd9d61",
   "metadata": {},
   "outputs": [],
   "source": [
    "def quadratic(a,b,c):\n",
    "    d=b**2-4*a*c\n",
    "    if d>=0:\n",
    "        import math\n",
    "        x=(-b+(math.sqrt(b**2-4*a*c)))/2*a\n",
    "        y=(-b-(math.sqrt(b**2-4*a*c)))/2*a\n",
    "        return x,y\n",
    "    else:\n",
    "        import cmath\n",
    "        x=(-b+(cmath.sqrt(b**2-4*a*c)))/2*a\n",
    "        y=(-b-(cmath.sqrt(b**2-4*a*c)))/2*a\n",
    "        return x,y"
   ]
  },
  {
   "cell_type": "code",
   "execution_count": 84,
   "id": "e7f968ff",
   "metadata": {},
   "outputs": [
    {
     "data": {
      "text/plain": [
       "(1.0, 1.0)"
      ]
     },
     "execution_count": 84,
     "metadata": {},
     "output_type": "execute_result"
    }
   ],
   "source": [
    "quadratic(1,-2,1)"
   ]
  },
  {
   "cell_type": "code",
   "execution_count": 86,
   "id": "d7b19878",
   "metadata": {},
   "outputs": [
    {
     "data": {
      "text/plain": [
       "(-1.0, -3.0)"
      ]
     },
     "execution_count": 86,
     "metadata": {},
     "output_type": "execute_result"
    }
   ],
   "source": [
    "quadratic(1,4,3)"
   ]
  },
  {
   "cell_type": "code",
   "execution_count": 85,
   "id": "87fd3c61",
   "metadata": {},
   "outputs": [
    {
     "data": {
      "text/plain": [
       "((-1+2j), (-1-2j))"
      ]
     },
     "execution_count": 85,
     "metadata": {},
     "output_type": "execute_result"
    }
   ],
   "source": [
    "quadratic(1,2,5)"
   ]
  },
  {
   "cell_type": "markdown",
   "id": "7149e7c4",
   "metadata": {},
   "source": [
    "# 5.\tWrite a Python program to swap two variables without temp variable"
   ]
  },
  {
   "cell_type": "code",
   "execution_count": 60,
   "id": "e5871155",
   "metadata": {},
   "outputs": [
    {
     "name": "stdout",
     "output_type": "stream",
     "text": [
      "50\n",
      "100\n",
      "entered numbers are a= 50 and b= 100\n",
      "numbers after swap are a= 100 and b= 50\n"
     ]
    }
   ],
   "source": [
    "a,b=int(input()),int(input())\n",
    "print(\"entered numbers are a=\",a,\"and b=\",b)\n",
    "a,b=b,a\n",
    "print(\"numbers after swap are a=\",a,\"and b=\",b)"
   ]
  }
 ],
 "metadata": {
  "kernelspec": {
   "display_name": "Python 3",
   "language": "python",
   "name": "python3"
  },
  "language_info": {
   "codemirror_mode": {
    "name": "ipython",
    "version": 3
   },
   "file_extension": ".py",
   "mimetype": "text/x-python",
   "name": "python",
   "nbconvert_exporter": "python",
   "pygments_lexer": "ipython3",
   "version": "3.8.8"
  }
 },
 "nbformat": 4,
 "nbformat_minor": 5
}
